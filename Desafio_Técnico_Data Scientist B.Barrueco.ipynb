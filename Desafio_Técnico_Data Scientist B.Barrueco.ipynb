{
 "cells": [
  {
   "cell_type": "code",
   "execution_count": 1,
   "metadata": {},
   "outputs": [],
   "source": [
    "import pandas as pd\n",
    "import numpy as np\n",
    "import matplotlib.pyplot as plt\n",
    "import seaborn as sns\n",
    "import datetime\n",
    " \n",
    "from sklearn.model_selection import train_test_split\n",
    "from sklearn.metrics import mean_squared_error, mean_pinball_loss, r2_score\n",
    "from sklearn.preprocessing import OneHotEncoder, StandardScaler\n",
    "from sklearn.pipeline import make_pipeline\n",
    "\n",
    "from sklearn.linear_model import LinearRegression, BayesianRidge, ARDRegression"
   ]
  },
  {
   "cell_type": "code",
   "execution_count": 2,
   "metadata": {},
   "outputs": [],
   "source": [
    "train_data = pd.read_csv(\"train.csv\", delimiter=\",\")\n",
    "test_data = pd.read_csv(\"test.csv\", delimiter=\",\")"
   ]
  },
  {
   "cell_type": "code",
   "execution_count": 3,
   "metadata": {},
   "outputs": [
    {
     "data": {
      "text/html": [
       "<div>\n",
       "<style scoped>\n",
       "    .dataframe tbody tr th:only-of-type {\n",
       "        vertical-align: middle;\n",
       "    }\n",
       "\n",
       "    .dataframe tbody tr th {\n",
       "        vertical-align: top;\n",
       "    }\n",
       "\n",
       "    .dataframe thead th {\n",
       "        text-align: right;\n",
       "    }\n",
       "</style>\n",
       "<table border=\"1\" class=\"dataframe\">\n",
       "  <thead>\n",
       "    <tr style=\"text-align: right;\">\n",
       "      <th></th>\n",
       "      <th>invoice_number</th>\n",
       "      <th>product_id</th>\n",
       "      <th>product_description</th>\n",
       "      <th>quantity</th>\n",
       "      <th>date</th>\n",
       "      <th>product_price</th>\n",
       "      <th>customer</th>\n",
       "      <th>state</th>\n",
       "      <th>product_class</th>\n",
       "      <th>operational_unit</th>\n",
       "    </tr>\n",
       "  </thead>\n",
       "  <tbody>\n",
       "    <tr>\n",
       "      <th>0</th>\n",
       "      <td>a7b395be-8b16-4312-9782-890e75e6e385</td>\n",
       "      <td>7dd89457-557f-4d8a-99de-76d35bff0ea4</td>\n",
       "      <td>FELTCRAFT DOLL ROSIE</td>\n",
       "      <td>6</td>\n",
       "      <td>2011-07-08T10:23:00Z</td>\n",
       "      <td>2.95</td>\n",
       "      <td>00014495-b8ab-42fc-9ac8-51392ab44aa0</td>\n",
       "      <td>Florida</td>\n",
       "      <td>B</td>\n",
       "      <td>1</td>\n",
       "    </tr>\n",
       "    <tr>\n",
       "      <th>1</th>\n",
       "      <td>a7b395be-8b16-4312-9782-890e75e6e385</td>\n",
       "      <td>cf3fb78b-9cf7-41fc-9c09-0f83e2829e23</td>\n",
       "      <td>DOORMAT NEW ENGLAND</td>\n",
       "      <td>6</td>\n",
       "      <td>2011-07-08T10:23:00Z</td>\n",
       "      <td>7.95</td>\n",
       "      <td>00014495-b8ab-42fc-9ac8-51392ab44aa0</td>\n",
       "      <td>Florida</td>\n",
       "      <td>A</td>\n",
       "      <td>1</td>\n",
       "    </tr>\n",
       "    <tr>\n",
       "      <th>2</th>\n",
       "      <td>a7b395be-8b16-4312-9782-890e75e6e385</td>\n",
       "      <td>ded3c4f6-706f-4093-aefd-65cbafed12e2</td>\n",
       "      <td>ALARM CLOCK BAKELIKE GREEN</td>\n",
       "      <td>4</td>\n",
       "      <td>2011-07-08T10:23:00Z</td>\n",
       "      <td>3.75</td>\n",
       "      <td>00014495-b8ab-42fc-9ac8-51392ab44aa0</td>\n",
       "      <td>Florida</td>\n",
       "      <td>B</td>\n",
       "      <td>1</td>\n",
       "    </tr>\n",
       "    <tr>\n",
       "      <th>3</th>\n",
       "      <td>a7b395be-8b16-4312-9782-890e75e6e385</td>\n",
       "      <td>9fea4a62-84a0-4a92-9aa6-af21431a2de5</td>\n",
       "      <td>EMERGENCY FIRST AID TIN</td>\n",
       "      <td>12</td>\n",
       "      <td>2011-07-08T10:23:00Z</td>\n",
       "      <td>1.25</td>\n",
       "      <td>00014495-b8ab-42fc-9ac8-51392ab44aa0</td>\n",
       "      <td>Florida</td>\n",
       "      <td>C</td>\n",
       "      <td>1</td>\n",
       "    </tr>\n",
       "    <tr>\n",
       "      <th>4</th>\n",
       "      <td>a7b395be-8b16-4312-9782-890e75e6e385</td>\n",
       "      <td>2ec06d3b-d12a-4d29-bf1b-721583f34b10</td>\n",
       "      <td>DOORMAT RED RETROSPOT</td>\n",
       "      <td>6</td>\n",
       "      <td>2011-07-08T10:23:00Z</td>\n",
       "      <td>7.95</td>\n",
       "      <td>00014495-b8ab-42fc-9ac8-51392ab44aa0</td>\n",
       "      <td>Florida</td>\n",
       "      <td>A</td>\n",
       "      <td>1</td>\n",
       "    </tr>\n",
       "  </tbody>\n",
       "</table>\n",
       "</div>"
      ],
      "text/plain": [
       "                         invoice_number                            product_id  \\\n",
       "0  a7b395be-8b16-4312-9782-890e75e6e385  7dd89457-557f-4d8a-99de-76d35bff0ea4   \n",
       "1  a7b395be-8b16-4312-9782-890e75e6e385  cf3fb78b-9cf7-41fc-9c09-0f83e2829e23   \n",
       "2  a7b395be-8b16-4312-9782-890e75e6e385  ded3c4f6-706f-4093-aefd-65cbafed12e2   \n",
       "3  a7b395be-8b16-4312-9782-890e75e6e385  9fea4a62-84a0-4a92-9aa6-af21431a2de5   \n",
       "4  a7b395be-8b16-4312-9782-890e75e6e385  2ec06d3b-d12a-4d29-bf1b-721583f34b10   \n",
       "\n",
       "          product_description  quantity                  date  product_price  \\\n",
       "0        FELTCRAFT DOLL ROSIE         6  2011-07-08T10:23:00Z           2.95   \n",
       "1         DOORMAT NEW ENGLAND         6  2011-07-08T10:23:00Z           7.95   \n",
       "2  ALARM CLOCK BAKELIKE GREEN         4  2011-07-08T10:23:00Z           3.75   \n",
       "3     EMERGENCY FIRST AID TIN        12  2011-07-08T10:23:00Z           1.25   \n",
       "4       DOORMAT RED RETROSPOT         6  2011-07-08T10:23:00Z           7.95   \n",
       "\n",
       "                               customer    state product_class  \\\n",
       "0  00014495-b8ab-42fc-9ac8-51392ab44aa0  Florida             B   \n",
       "1  00014495-b8ab-42fc-9ac8-51392ab44aa0  Florida             A   \n",
       "2  00014495-b8ab-42fc-9ac8-51392ab44aa0  Florida             B   \n",
       "3  00014495-b8ab-42fc-9ac8-51392ab44aa0  Florida             C   \n",
       "4  00014495-b8ab-42fc-9ac8-51392ab44aa0  Florida             A   \n",
       "\n",
       "   operational_unit  \n",
       "0                 1  \n",
       "1                 1  \n",
       "2                 1  \n",
       "3                 1  \n",
       "4                 1  "
      ]
     },
     "execution_count": 3,
     "metadata": {},
     "output_type": "execute_result"
    }
   ],
   "source": [
    "train_data.head()"
   ]
  },
  {
   "cell_type": "markdown",
   "metadata": {},
   "source": [
    "1. We verify outliers, negatives values and dispersion in the variables. And, do changes to format to finally exclude columns that we don't use"
   ]
  },
  {
   "cell_type": "code",
   "execution_count": 4,
   "metadata": {},
   "outputs": [
    {
     "data": {
      "text/html": [
       "<div>\n",
       "<style scoped>\n",
       "    .dataframe tbody tr th:only-of-type {\n",
       "        vertical-align: middle;\n",
       "    }\n",
       "\n",
       "    .dataframe tbody tr th {\n",
       "        vertical-align: top;\n",
       "    }\n",
       "\n",
       "    .dataframe thead th {\n",
       "        text-align: right;\n",
       "    }\n",
       "</style>\n",
       "<table border=\"1\" class=\"dataframe\">\n",
       "  <thead>\n",
       "    <tr style=\"text-align: right;\">\n",
       "      <th></th>\n",
       "      <th>quantity</th>\n",
       "    </tr>\n",
       "  </thead>\n",
       "  <tbody>\n",
       "    <tr>\n",
       "      <th>0</th>\n",
       "      <td>6</td>\n",
       "    </tr>\n",
       "    <tr>\n",
       "      <th>1</th>\n",
       "      <td>6</td>\n",
       "    </tr>\n",
       "    <tr>\n",
       "      <th>2</th>\n",
       "      <td>4</td>\n",
       "    </tr>\n",
       "    <tr>\n",
       "      <th>3</th>\n",
       "      <td>12</td>\n",
       "    </tr>\n",
       "    <tr>\n",
       "      <th>4</th>\n",
       "      <td>6</td>\n",
       "    </tr>\n",
       "    <tr>\n",
       "      <th>...</th>\n",
       "      <td>...</td>\n",
       "    </tr>\n",
       "    <tr>\n",
       "      <th>411209</th>\n",
       "      <td>4</td>\n",
       "    </tr>\n",
       "    <tr>\n",
       "      <th>411210</th>\n",
       "      <td>2</td>\n",
       "    </tr>\n",
       "    <tr>\n",
       "      <th>411211</th>\n",
       "      <td>1</td>\n",
       "    </tr>\n",
       "    <tr>\n",
       "      <th>411212</th>\n",
       "      <td>2</td>\n",
       "    </tr>\n",
       "    <tr>\n",
       "      <th>411213</th>\n",
       "      <td>4</td>\n",
       "    </tr>\n",
       "  </tbody>\n",
       "</table>\n",
       "<p>411214 rows × 1 columns</p>\n",
       "</div>"
      ],
      "text/plain": [
       "        quantity\n",
       "0              6\n",
       "1              6\n",
       "2              4\n",
       "3             12\n",
       "4              6\n",
       "...          ...\n",
       "411209         4\n",
       "411210         2\n",
       "411211         1\n",
       "411212         2\n",
       "411213         4\n",
       "\n",
       "[411214 rows x 1 columns]"
      ]
     },
     "execution_count": 4,
     "metadata": {},
     "output_type": "execute_result"
    }
   ],
   "source": [
    "train_data.loc[:,['quantity']]"
   ]
  },
  {
   "cell_type": "code",
   "execution_count": 5,
   "metadata": {},
   "outputs": [],
   "source": [
    "# train_data.boxplot() =====> Boxplot to see quckly distribution and outliers.\n",
    "train_data.loc[train_data[\"quantity\"] < 0]\n",
    "train_data.loc[\n",
    "    (train_data[\"product_description\"] != \"Discount\") & (train_data[\"quantity\"] < 0)\n",
    "]\n",
    "# train_data.describe() =====> To see current variables and its respective statistical metrics.\n",
    "\n",
    "# --- We change the format of the column \"date\" and drop the columns that we won't use --- \n",
    "train_data[\"date\"] = pd.to_datetime(train_data[\"date\"], format=r\"%Y-%m-%d\").dt.date\n",
    "train_data[\"date\"] = pd.to_datetime(train_data[\"date\"])\n",
    "train_df = train_data.drop(\n",
    "    [\n",
    "        \"invoice_number\",\n",
    "        \"customer\",\n",
    "        \"product_id\",\n",
    "        \"product_description\",\n",
    "        \"state\",\n",
    "        \"product_price\",\n",
    "    ],\n",
    "    axis=1)\n",
    "\n",
    "test_data[\"date\"] = pd.to_datetime(test_data[\"date\"], format=r\"%Y-%m-%d\").dt.date\n",
    "test_data[\"date\"] = pd.to_datetime(test_data[\"date\"])\n",
    "test_df = test_data.drop(\n",
    "    [\n",
    "        \"invoice_number\",\n",
    "        \"customer\",\n",
    "        \"product_id\",\n",
    "        \"product_description\",\n",
    "        \"state\",\n",
    "        \"product_price\",\n",
    "    ],\n",
    "    axis=1)\n"
   ]
  },
  {
   "cell_type": "markdown",
   "metadata": {},
   "source": [
    "2. We use intercuartilic range to discriminate outliers, excluding negatives quantities. (11+1,5*(11-10)) = 26 we took this result as superior limit.\n"
   ]
  },
  {
   "cell_type": "code",
   "execution_count": 6,
   "metadata": {},
   "outputs": [],
   "source": [
    "\"We exclude around 9000 negative observations in 'quantity field' and in the product_description some observatios detailed as discount.\"\n",
    "\n",
    "# --- We proceed to set the new dataset including restrictions to clean the data ---\n",
    "train_data=train_data.loc[(train_df[\"quantity\"] > 0) & (train_df[\"quantity\"] < 27)]\n",
    "train_df = train_df.loc[(train_df[\"quantity\"] > 0) & (train_df[\"quantity\"] < 27)]\n",
    "\n",
    "train_df.isna().sum()\n",
    "train_df = train_df.dropna()"
   ]
  },
  {
   "cell_type": "markdown",
   "metadata": {},
   "source": [
    "3. We transform Train and Test datasets applying one-hot encoding to create artificial variables"
   ]
  },
  {
   "cell_type": "code",
   "execution_count": 7,
   "metadata": {},
   "outputs": [],
   "source": [
    "# --- Independent variable selected (FEATURES), will be \"product_class\" ---\n",
    "train_df = (\n",
    "    pd.get_dummies(train_df, columns=[\"product_class\"])\n",
    "    .sort_values(by=\"date\")\n",
    "    .drop([\"operational_unit\"], axis=1)\n",
    ")\n",
    "\n",
    "# --- We deleted from dataframe \"test_data\" the columns that aren't in the \"train_data\" to get the same dimensionality ---\n",
    "test_df = (\n",
    "    pd.get_dummies(test_df, columns=[\"product_class\"])\n",
    "    .sort_values(by=\"date\")\n",
    "    .drop([\"operational_unit\"], axis=1)\n",
    ")\n"
   ]
  },
  {
   "cell_type": "markdown",
   "metadata": {},
   "source": [
    "4. We create a function to extract the date and split in years, month, days and weeks to get more characteristics."
   ]
  },
  {
   "cell_type": "code",
   "execution_count": 8,
   "metadata": {},
   "outputs": [],
   "source": [
    "def extraer_fechas(df):\n",
    "    \"\"\"\n",
    "    Returns a dataframe with the date splitted by year,month,day and week.\n",
    "\n",
    "        Parameters:\n",
    "            df (Dataframe): A dataframe Pandas Object\n",
    "\n",
    "        Returns:\n",
    "            df (Dataframe): Configured dataframe with new columns of a splitted date\n",
    "    \"\"\"\n",
    "    df = df.set_index(df.date)\n",
    "    df.drop([\"date\"], axis=1, inplace=True)\n",
    "\n",
    "    df[\"year\"] = df.index.year\n",
    "    df[\"month\"] = df.index.month\n",
    "    df[\"day\"] = df.index.day\n",
    "    df[\"week\"] = pd.Index(df.index.isocalendar().week)\n",
    "    df.reset_index(drop=True, inplace=True)\n",
    "\n",
    "    return df\n",
    "\n",
    "\n",
    "test_df = extraer_fechas(test_df)\n",
    "train_df = extraer_fechas(train_df)\n"
   ]
  },
  {
   "cell_type": "markdown",
   "metadata": {},
   "source": [
    "5. We create a functions to compare the results of MSE for each tested model  "
   ]
  },
  {
   "cell_type": "code",
   "execution_count": 9,
   "metadata": {},
   "outputs": [],
   "source": [
    "# we defined a dictionary that will store MSE comparisons returned by the function \"compare_results\"\n",
    "results_dict = {}\n",
    "FEATURES = list(train_df.columns[1:])\n",
    "PREDICT_VAR = \"quantity\"\n",
    "\n",
    "def compare_results():\n",
    "    \"\"\"\n",
    "    Returns the comparison between the MSE of each model inside the \"results_dict\" dictionary.\n",
    "\n",
    "        Parameters:\n",
    "            (none): none\n",
    "\n",
    "        Returns:\n",
    "            results_dict (dict): Medium Squared Error of the prediction model stored\n",
    "    \"\"\"\n",
    "\n",
    "    for key in results_dict:\n",
    "\n",
    "        print(\"Supervised: \", key)\n",
    "        print()\n",
    "\n",
    "        print(\"Training data\")\n",
    "        for metric in results_dict[key][\"training\"]:\n",
    "            print(metric, results_dict[key][\"training\"][metric])\n",
    "        print()\n",
    "\n",
    "        print(\"Test data\")\n",
    "        for metric in results_dict[key][\"test\"]:\n",
    "            print(metric, results_dict[key][\"test\"][metric])\n",
    "        print()\n"
   ]
  },
  {
   "cell_type": "markdown",
   "metadata": {},
   "source": [
    "6. Function that give the result of MSE"
   ]
  },
  {
   "cell_type": "code",
   "execution_count": 10,
   "metadata": {},
   "outputs": [],
   "source": [
    "def summarize_prediction(y_true, y_pred):\n",
    "    \"\"\"\n",
    "    Returns the mean squared error (MSE) between the true dependent \"y\" variable and predict \"y\" variable.\n",
    "\n",
    "        Parameters:\n",
    "            y_true (Series): A pandas.core.series.Series object\n",
    "            y_pred (Series): A pandas.core.series.Series object\n",
    "\n",
    "        Returns:\n",
    "            r_squared (float): A float number between 0-1, represent the nearness of regression line respect to points\n",
    "            error_mse (float): A float number, mean of the error squared\n",
    "    \"\"\"\n",
    "    r_squared = r2_score(y_true, y_pred)\n",
    "    error_mse = mean_squared_error(y_true, y_pred)\n",
    "    pinball_loss = mean_pinball_loss(y_true, y_pred)\n",
    "\n",
    "    return {\n",
    "        \"R2: \": \" %.2f\" % r_squared,\n",
    "        \"MSE: \": \" %.2f\" % error_mse,\n",
    "        \"Pinball Loss: \": \"%.2f\" % pinball_loss,\n",
    "    }\n"
   ]
  },
  {
   "cell_type": "markdown",
   "metadata": {},
   "source": [
    "7. We evaluate every model to select which returns the better performance based on MSE metric"
   ]
  },
  {
   "cell_type": "code",
   "execution_count": 11,
   "metadata": {},
   "outputs": [],
   "source": [
    "def build_model(predict_function, name_of_y_col, names_of_x_cols, df):\n",
    "    \"\"\"\n",
    "    Returns the train  and test summary, the called to function \"summarize_prediction\".\n",
    "\n",
    "        Parameters:\n",
    "            predict_function (object): Fitted model, predictor object\n",
    "            name_of_y_col (Series): A pandas.core.series.Series object\n",
    "            names_of_x_cols (Series): A pandas.core.series.Series object\n",
    "            df (Dataframe): A Dataframe pandas object\n",
    "\n",
    "        Returns:\n",
    "            train_summary (float): A float number, mean of the error squared calculated with the difference between real \"y\" and predicted \"y\"\n",
    "    \"\"\"\n",
    "    x = df[names_of_x_cols]\n",
    "    y = df[name_of_y_col]\n",
    "\n",
    "    x_train, x_test, y_train, y_test = train_test_split(x, y, test_size=0.2)\n",
    "\n",
    "    model = predict_function(x_train, y_train)\n",
    "\n",
    "    y_pred = model.predict(x_test)\n",
    "    y_pred_train = model.predict(x_train) \n",
    "\n",
    "    train_summary = summarize_prediction(y_train, y_pred_train)\n",
    "    test_summary = summarize_prediction(y_test, y_pred)\n",
    "\n",
    "    return {\"training\": train_summary, \"test\": test_summary}\n"
   ]
  },
  {
   "cell_type": "markdown",
   "metadata": {},
   "source": [
    "8. We defined all the functions that will be a possible solution"
   ]
  },
  {
   "cell_type": "code",
   "execution_count": 12,
   "metadata": {},
   "outputs": [],
   "source": [
    "# ==== Model 1 linear Regression ====\n",
    "def lin_regression(x_train, y_train):\n",
    "\n",
    "    lin_r = make_pipeline(\n",
    "        StandardScaler(with_mean=False), LinearRegression()\n",
    "    )  # an error occurred after use only LinearRegression(), the output suggest use make_pipeline\n",
    "    model = lin_r.fit(x_train, y_train)\n",
    "\n",
    "    return model\n",
    "\n",
    "\n",
    "# ==== Model 2 Bayesian Ridge Regression ====\n",
    "def bayes_ridge(x_train, y_train):\n",
    "\n",
    "    bys_ridge = BayesianRidge(n_iter=1000000, tol=1e-6)\n",
    "    model = bys_ridge.fit(x_train, y_train)\n",
    "\n",
    "    return model\n",
    "\n",
    "# ==== Model 3 Bayesian ARD Regression ====\n",
    "def ardr_regression(x_train, y_train):\n",
    "\n",
    "    Areldet_regression = ARDRegression(n_iter=1000000, tol=1e-6)\n",
    "    model = Areldet_regression.fit(x_train, y_train)\n",
    "\n",
    "    return model\n"
   ]
  },
  {
   "cell_type": "markdown",
   "metadata": {},
   "source": [
    "9. We add all models into dict \"results_dict\" and call the function \"compare_results\" to compare the results obtained"
   ]
  },
  {
   "cell_type": "code",
   "execution_count": 13,
   "metadata": {},
   "outputs": [
    {
     "name": "stdout",
     "output_type": "stream",
     "text": [
      "Supervised:  Bayesian Ridge ~ Regression\n",
      "\n",
      "Training data\n",
      "R2:   0.17\n",
      "MSE:   33.17\n",
      "Pinball Loss:  2.13\n",
      "\n",
      "Test data\n",
      "R2:   0.17\n",
      "MSE:   33.41\n",
      "Pinball Loss:  2.13\n",
      "\n",
      "Supervised:  linear ~ Regression\n",
      "\n",
      "Training data\n",
      "R2:   0.17\n",
      "MSE:   33.36\n",
      "Pinball Loss:  2.13\n",
      "\n",
      "Test data\n",
      "R2:   0.17\n",
      "MSE:   32.65\n",
      "Pinball Loss:  2.11\n",
      "\n",
      "Supervised:  Bayesian ARD ~ Regression\n",
      "\n",
      "Training data\n",
      "R2:   0.17\n",
      "MSE:   33.01\n",
      "Pinball Loss:  2.12\n",
      "\n",
      "Test data\n",
      "R2:   0.17\n",
      "MSE:   34.04\n",
      "Pinball Loss:  2.15\n",
      "\n"
     ]
    }
   ],
   "source": [
    "results_dict[\"Bayesian Ridge ~ Regression\"] = build_model(\n",
    "    bayes_ridge, PREDICT_VAR, FEATURES, train_df\n",
    ")\n",
    "\n",
    "\n",
    "results_dict[\"linear ~ Regression\"] = build_model(\n",
    "    lin_regression, PREDICT_VAR, FEATURES, train_df\n",
    ")\n",
    "\n",
    "results_dict[\"Bayesian ARD ~ Regression\"] = build_model(\n",
    "    ardr_regression, PREDICT_VAR, FEATURES, train_df\n",
    ")\n",
    "\n",
    "compare_results()\n"
   ]
  },
  {
   "cell_type": "markdown",
   "metadata": {},
   "source": [
    "10. The selected model and the prediction with the test_data\n"
   ]
  },
  {
   "cell_type": "code",
   "execution_count": 14,
   "metadata": {},
   "outputs": [],
   "source": [
    "def model_selected(predict_function, name_of_y_col, names_of_x_cols, df_test, df_train):\n",
    "    \"\"\"\n",
    "    Returns the final prediction with the selected model.\n",
    "\n",
    "        Parameters:\n",
    "            predict_function (object): Fitted model, predictor object\n",
    "            name_of_y_col (Series): A pandas.core.series.Series object\n",
    "            names_of_x_cols (Series): A pandas.core.series.Series object\n",
    "            df_test (Dataframe): A Dataframe pandas object\n",
    "            df_train (Dataframe): A Dataframe pandas object\n",
    "\n",
    "        Returns:\n",
    "            y_prediction (Series): A pandas.core.series.Series object, column with the predicition values for the dates and predictor variables passed.\n",
    "    \"\"\"\n",
    "    X_test = df_test[names_of_x_cols]\n",
    "\n",
    "    Y_train = df_train[name_of_y_col]\n",
    "    X_train = df_train[names_of_x_cols]\n",
    "\n",
    "    model = predict_function(X_train, Y_train)\n",
    "    y_prediction = model.predict(X_test)\n",
    "\n",
    "    return y_prediction\n"
   ]
  },
  {
   "cell_type": "markdown",
   "metadata": {},
   "source": [
    "11. We saved the prediction in the csv file."
   ]
  },
  {
   "cell_type": "code",
   "execution_count": 15,
   "metadata": {},
   "outputs": [
    {
     "data": {
      "text/plain": [
       "'#We apply format to the predictions and save in csv file.\\ntest_data.predicciones = np.round(test_data.predicciones, 2)\\ntest_data.to_csv(\\n    r\"C:/Users/bbarruecou/Desktop/Desafío Data Scientist BRAIN FOOD/test.csv\",\\n    index=False,\\n)\\n'"
      ]
     },
     "execution_count": 15,
     "metadata": {},
     "output_type": "execute_result"
    }
   ],
   "source": [
    "# We add the prediction to the test dataset.\n",
    "test_data[\"predicciones\"] = model_selected(\n",
    "    lin_regression, PREDICT_VAR, FEATURES, test_df, train_df\n",
    ")\n",
    "\n",
    "train_data[\"predicciones\"] = model_selected(\n",
    "    lin_regression, PREDICT_VAR, FEATURES, train_df, train_df\n",
    ")\n",
    "\n",
    "# Resampling the dataset to let it as weekly.\n",
    "test_data_weekly = test_data.resample(\"W\", on=\"date\").sum().sort_values(by=\"date\")\n",
    "train_data_weekly = train_data.resample(\"W\", on=\"date\").sum().sort_values(by=\"date\")\n",
    "# test_data_weekly =====> RESULTADO DE PREDICCIÓN SEMANAL\n",
    "\n",
    "# Return the date index as column.\n",
    "test_data_weekly[\"date\"] = test_data_weekly.index\n",
    "train_data_weekly[\"date\"] = train_data_weekly.index\n",
    "\n",
    "'''#We apply format to the predictions and save in csv file.\n",
    "test_data.predicciones = np.round(test_data.predicciones, 2)\n",
    "test_data.to_csv(\n",
    "    r\"C:/Users/bbarruecou/Desktop/Desafío Data Scientist BRAIN FOOD/test.csv\",\n",
    "    index=False,\n",
    ")\n",
    "'''"
   ]
  },
  {
   "cell_type": "markdown",
   "metadata": {},
   "source": [
    "12. We Graph the prediction"
   ]
  },
  {
   "cell_type": "code",
   "execution_count": 16,
   "metadata": {},
   "outputs": [
    {
     "data": {
      "image/png": "[encoded data removed]",
      "text/plain": [
       "<Figure size 720x576 with 2 Axes>"
      ]
     },
     "metadata": {
      "needs_background": "light"
     },
     "output_type": "display_data"
    }
   ],
   "source": [
    "\n",
    "\n",
    "fig, (ax1, ax2) = plt.subplots(2, 1, figsize=(10, 8))\n",
    "fig.suptitle(\"Comaparative of Quantities\")\n",
    "\n",
    "ax1.plot(train_data_weekly[\"predicciones\"], label=\"Predictions\")\n",
    "ax1.plot(train_data_weekly[\"quantity\"], label=\"Current Quantity\")\n",
    "ax1.legend()\n",
    "ax1.set_ylabel(\"Actual v/s Prediction\")\n",
    "\n",
    "ax2.plot(test_data_weekly[\"predicciones\"], label=\"Predictions\")\n",
    "ax2.plot(train_data_weekly[\"quantity\"], label=\"Current Quantity\")\n",
    "ax2.legend()\n",
    "ax2.set_xlabel(\"Date\")\n",
    "ax2.set_ylabel(\"Forecast proyected\")\n",
    "\n",
    "plt.show()\n"
   ]
  },
  {
   "cell_type": "code",
   "execution_count": null,
   "metadata": {},
   "outputs": [],
   "source": []
  }
 ],
 "metadata": {
  "kernelspec": {
   "display_name": "Python 3.10.6 64-bit",
   "language": "python",
   "name": "python3"
  },
  "language_info": {
   "codemirror_mode": {
    "name": "ipython",
    "version": 3
   },
   "file_extension": ".py",
   "mimetype": "text/x-python",
   "name": "python",
   "nbconvert_exporter": "python",
   "pygments_lexer": "ipython3",
   "version": "3.10.6"
  },
  "orig_nbformat": 4,
  "vscode": {
   "interpreter": {
    "hash": "f515bf980fa92181d8306b2bdbdf8e4f0e556f3150e3e5070f96cb94d0c77c91"
   }
  }
 },
 "nbformat": 4,
 "nbformat_minor": 2
}
